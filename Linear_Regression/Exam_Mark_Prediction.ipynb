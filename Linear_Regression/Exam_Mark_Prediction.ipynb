{
  "nbformat": 4,
  "nbformat_minor": 0,
  "metadata": {
    "colab": {
      "provenance": []
    },
    "kernelspec": {
      "name": "python3",
      "display_name": "Python 3"
    },
    "language_info": {
      "name": "python"
    }
  },
  "cells": [
    {
      "cell_type": "markdown",
      "metadata": {
        "id": "I1VRs4tZkbvW"
      },
      "source": [
        "#  Exam mark prediction using Linear Regression-multipleVariable"
      ]
    },
    {
      "cell_type": "markdown",
      "metadata": {
        "id": "SAFLqwkKk8rK"
      },
      "source": [
        "### *Import Libraries*"
      ]
    },
    {
      "cell_type": "code",
      "metadata": {
        "id": "EgF2lvr_jzVL"
      },
      "source": [
        "import pandas as pd\n",
        "from sklearn.linear_model import LinearRegression"
      ],
      "execution_count": 1,
      "outputs": []
    },
    {
      "cell_type": "markdown",
      "metadata": {
        "id": "XWe_7j6UjxRj"
      },
      "source": [
        "### *Load Dataset from Local Directory*"
      ]
    },
    {
      "cell_type": "code",
      "metadata": {
        "id": "vKrHCJk_jwfJ",
        "colab": {
          "base_uri": "https://localhost:8080/",
          "height": 69
        },
        "outputId": "0e85a478-b407-4531-94ab-c6ed886190d8"
      },
      "source": [
        "from google.colab import files\n",
        "uploaded = files.upload()"
      ],
      "execution_count": 2,
      "outputs": [
        {
          "output_type": "display_data",
          "data": {
            "text/plain": [
              "<IPython.core.display.HTML object>"
            ],
            "text/html": [
              "\n",
              "     <input type=\"file\" id=\"files-4016fa68-f4e5-46b8-84e5-86efb1f29468\" name=\"files[]\" multiple disabled\n",
              "        style=\"border:none\" />\n",
              "     <output id=\"result-4016fa68-f4e5-46b8-84e5-86efb1f29468\">\n",
              "      Upload widget is only available when the cell has been executed in the\n",
              "      current browser session. Please rerun this cell to enable.\n",
              "      </output>\n",
              "      <script>// Copyright 2017 Google LLC\n",
              "//\n",
              "// Licensed under the Apache License, Version 2.0 (the \"License\");\n",
              "// you may not use this file except in compliance with the License.\n",
              "// You may obtain a copy of the License at\n",
              "//\n",
              "//      http://www.apache.org/licenses/LICENSE-2.0\n",
              "//\n",
              "// Unless required by applicable law or agreed to in writing, software\n",
              "// distributed under the License is distributed on an \"AS IS\" BASIS,\n",
              "// WITHOUT WARRANTIES OR CONDITIONS OF ANY KIND, either express or implied.\n",
              "// See the License for the specific language governing permissions and\n",
              "// limitations under the License.\n",
              "\n",
              "/**\n",
              " * @fileoverview Helpers for google.colab Python module.\n",
              " */\n",
              "(function(scope) {\n",
              "function span(text, styleAttributes = {}) {\n",
              "  const element = document.createElement('span');\n",
              "  element.textContent = text;\n",
              "  for (const key of Object.keys(styleAttributes)) {\n",
              "    element.style[key] = styleAttributes[key];\n",
              "  }\n",
              "  return element;\n",
              "}\n",
              "\n",
              "// Max number of bytes which will be uploaded at a time.\n",
              "const MAX_PAYLOAD_SIZE = 100 * 1024;\n",
              "\n",
              "function _uploadFiles(inputId, outputId) {\n",
              "  const steps = uploadFilesStep(inputId, outputId);\n",
              "  const outputElement = document.getElementById(outputId);\n",
              "  // Cache steps on the outputElement to make it available for the next call\n",
              "  // to uploadFilesContinue from Python.\n",
              "  outputElement.steps = steps;\n",
              "\n",
              "  return _uploadFilesContinue(outputId);\n",
              "}\n",
              "\n",
              "// This is roughly an async generator (not supported in the browser yet),\n",
              "// where there are multiple asynchronous steps and the Python side is going\n",
              "// to poll for completion of each step.\n",
              "// This uses a Promise to block the python side on completion of each step,\n",
              "// then passes the result of the previous step as the input to the next step.\n",
              "function _uploadFilesContinue(outputId) {\n",
              "  const outputElement = document.getElementById(outputId);\n",
              "  const steps = outputElement.steps;\n",
              "\n",
              "  const next = steps.next(outputElement.lastPromiseValue);\n",
              "  return Promise.resolve(next.value.promise).then((value) => {\n",
              "    // Cache the last promise value to make it available to the next\n",
              "    // step of the generator.\n",
              "    outputElement.lastPromiseValue = value;\n",
              "    return next.value.response;\n",
              "  });\n",
              "}\n",
              "\n",
              "/**\n",
              " * Generator function which is called between each async step of the upload\n",
              " * process.\n",
              " * @param {string} inputId Element ID of the input file picker element.\n",
              " * @param {string} outputId Element ID of the output display.\n",
              " * @return {!Iterable<!Object>} Iterable of next steps.\n",
              " */\n",
              "function* uploadFilesStep(inputId, outputId) {\n",
              "  const inputElement = document.getElementById(inputId);\n",
              "  inputElement.disabled = false;\n",
              "\n",
              "  const outputElement = document.getElementById(outputId);\n",
              "  outputElement.innerHTML = '';\n",
              "\n",
              "  const pickedPromise = new Promise((resolve) => {\n",
              "    inputElement.addEventListener('change', (e) => {\n",
              "      resolve(e.target.files);\n",
              "    });\n",
              "  });\n",
              "\n",
              "  const cancel = document.createElement('button');\n",
              "  inputElement.parentElement.appendChild(cancel);\n",
              "  cancel.textContent = 'Cancel upload';\n",
              "  const cancelPromise = new Promise((resolve) => {\n",
              "    cancel.onclick = () => {\n",
              "      resolve(null);\n",
              "    };\n",
              "  });\n",
              "\n",
              "  // Wait for the user to pick the files.\n",
              "  const files = yield {\n",
              "    promise: Promise.race([pickedPromise, cancelPromise]),\n",
              "    response: {\n",
              "      action: 'starting',\n",
              "    }\n",
              "  };\n",
              "\n",
              "  cancel.remove();\n",
              "\n",
              "  // Disable the input element since further picks are not allowed.\n",
              "  inputElement.disabled = true;\n",
              "\n",
              "  if (!files) {\n",
              "    return {\n",
              "      response: {\n",
              "        action: 'complete',\n",
              "      }\n",
              "    };\n",
              "  }\n",
              "\n",
              "  for (const file of files) {\n",
              "    const li = document.createElement('li');\n",
              "    li.append(span(file.name, {fontWeight: 'bold'}));\n",
              "    li.append(span(\n",
              "        `(${file.type || 'n/a'}) - ${file.size} bytes, ` +\n",
              "        `last modified: ${\n",
              "            file.lastModifiedDate ? file.lastModifiedDate.toLocaleDateString() :\n",
              "                                    'n/a'} - `));\n",
              "    const percent = span('0% done');\n",
              "    li.appendChild(percent);\n",
              "\n",
              "    outputElement.appendChild(li);\n",
              "\n",
              "    const fileDataPromise = new Promise((resolve) => {\n",
              "      const reader = new FileReader();\n",
              "      reader.onload = (e) => {\n",
              "        resolve(e.target.result);\n",
              "      };\n",
              "      reader.readAsArrayBuffer(file);\n",
              "    });\n",
              "    // Wait for the data to be ready.\n",
              "    let fileData = yield {\n",
              "      promise: fileDataPromise,\n",
              "      response: {\n",
              "        action: 'continue',\n",
              "      }\n",
              "    };\n",
              "\n",
              "    // Use a chunked sending to avoid message size limits. See b/62115660.\n",
              "    let position = 0;\n",
              "    do {\n",
              "      const length = Math.min(fileData.byteLength - position, MAX_PAYLOAD_SIZE);\n",
              "      const chunk = new Uint8Array(fileData, position, length);\n",
              "      position += length;\n",
              "\n",
              "      const base64 = btoa(String.fromCharCode.apply(null, chunk));\n",
              "      yield {\n",
              "        response: {\n",
              "          action: 'append',\n",
              "          file: file.name,\n",
              "          data: base64,\n",
              "        },\n",
              "      };\n",
              "\n",
              "      let percentDone = fileData.byteLength === 0 ?\n",
              "          100 :\n",
              "          Math.round((position / fileData.byteLength) * 100);\n",
              "      percent.textContent = `${percentDone}% done`;\n",
              "\n",
              "    } while (position < fileData.byteLength);\n",
              "  }\n",
              "\n",
              "  // All done.\n",
              "  yield {\n",
              "    response: {\n",
              "      action: 'complete',\n",
              "    }\n",
              "  };\n",
              "}\n",
              "\n",
              "scope.google = scope.google || {};\n",
              "scope.google.colab = scope.google.colab || {};\n",
              "scope.google.colab._files = {\n",
              "  _uploadFiles,\n",
              "  _uploadFilesContinue,\n",
              "};\n",
              "})(self);\n",
              "</script> "
            ]
          },
          "metadata": {}
        },
        {
          "output_type": "stream",
          "name": "stdout",
          "text": [
            "Saving data.csv to data.csv\n"
          ]
        }
      ]
    },
    {
      "cell_type": "markdown",
      "metadata": {
        "id": "6gXowmSom462"
      },
      "source": [
        "### *Load Dataset*"
      ]
    },
    {
      "cell_type": "code",
      "metadata": {
        "id": "6JLDHSdym6wP"
      },
      "source": [
        "dataset = pd.read_csv('data.csv')"
      ],
      "execution_count": 3,
      "outputs": []
    },
    {
      "cell_type": "markdown",
      "metadata": {
        "id": "-DdkIy1ZnDfA"
      },
      "source": [
        "### *Load Summarize*"
      ]
    },
    {
      "cell_type": "code",
      "metadata": {
        "id": "OlElQViRnGFp",
        "colab": {
          "base_uri": "https://localhost:8080/"
        },
        "outputId": "f63d9477-1042-40ef-eeec-3c131a89d3f6"
      },
      "source": [
        "print(dataset.shape)\n",
        "print(dataset.head(5))"
      ],
      "execution_count": 4,
      "outputs": [
        {
          "output_type": "stream",
          "name": "stdout",
          "text": [
            "(201, 4)\n",
            "   hours  age  internet  marks\n",
            "0   6.83   15         1  78.50\n",
            "1   6.56   16         0  76.74\n",
            "2    NaN   17         1  78.68\n",
            "3   5.67   18         0  71.82\n",
            "4   8.67   19         1  84.19\n"
          ]
        }
      ]
    },
    {
      "cell_type": "markdown",
      "metadata": {
        "id": "-Zb9xIa-kOx5"
      },
      "source": [
        "### *Finding & Removing NA values from our Features X*"
      ]
    },
    {
      "cell_type": "code",
      "metadata": {
        "id": "UwyBQ5nZkTpf",
        "colab": {
          "base_uri": "https://localhost:8080/"
        },
        "outputId": "a8b98eb1-e0ab-441d-9c3d-8e3a81c1bc15"
      },
      "source": [
        "dataset.columns[dataset.isna().any()]"
      ],
      "execution_count": 5,
      "outputs": [
        {
          "output_type": "execute_result",
          "data": {
            "text/plain": [
              "Index(['hours'], dtype='object')"
            ]
          },
          "metadata": {},
          "execution_count": 5
        }
      ]
    },
    {
      "cell_type": "code",
      "metadata": {
        "id": "8LxSw9aHlJTC"
      },
      "source": [
        "dataset.hours = dataset.hours.fillna(dataset.hours.mean())"
      ],
      "execution_count": 6,
      "outputs": []
    },
    {
      "cell_type": "markdown",
      "metadata": {
        "id": "JRyfB6prpJDP"
      },
      "source": [
        "### *Segregate Dataset into Input X & Output Y*"
      ]
    },
    {
      "cell_type": "code",
      "metadata": {
        "id": "x9dQcTohpK1X",
        "colab": {
          "base_uri": "https://localhost:8080/"
        },
        "outputId": "cc8b1787-5cde-453c-d633-738541838afe"
      },
      "source": [
        "X = dataset.iloc[:, :-1].values\n",
        "print(X.shape)\n",
        "X"
      ],
      "execution_count": 7,
      "outputs": [
        {
          "output_type": "stream",
          "name": "stdout",
          "text": [
            "(201, 3)\n"
          ]
        },
        {
          "output_type": "execute_result",
          "data": {
            "text/plain": [
              "array([[6.83000000e+00, 1.50000000e+01, 1.00000000e+00],\n",
              "       [6.56000000e+00, 1.60000000e+01, 0.00000000e+00],\n",
              "       [3.02763776e+01, 1.70000000e+01, 1.00000000e+00],\n",
              "       [5.67000000e+00, 1.80000000e+01, 0.00000000e+00],\n",
              "       [8.67000000e+00, 1.90000000e+01, 1.00000000e+00],\n",
              "       [7.55000000e+00, 2.00000000e+01, 0.00000000e+00],\n",
              "       [6.67000000e+00, 1.50000000e+01, 0.00000000e+00],\n",
              "       [8.99000000e+00, 1.60000000e+01, 0.00000000e+00],\n",
              "       [4.57100000e+03, 1.70000000e+01, 1.00000000e+00],\n",
              "       [6.75000000e+00, 1.80000000e+01, 0.00000000e+00],\n",
              "       [6.59000000e+00, 1.90000000e+01, 0.00000000e+00],\n",
              "       [8.56000000e+00, 2.00000000e+01, 1.00000000e+00],\n",
              "       [7.75000000e+00, 1.50000000e+01, 0.00000000e+00],\n",
              "       [7.90000000e+00, 1.60000000e+01, 1.00000000e+00],\n",
              "       [8.19000000e+00, 1.70000000e+01, 0.00000000e+00],\n",
              "       [6.55000000e+00, 1.80000000e+01, 1.00000000e+00],\n",
              "       [6.36000000e+00, 1.90000000e+01, 0.00000000e+00],\n",
              "       [8.44000000e+00, 2.00000000e+01, 1.00000000e+00],\n",
              "       [8.41000000e+00, 1.50000000e+01, 0.00000000e+00],\n",
              "       [7.67000000e+00, 1.60000000e+01, 1.00000000e+00],\n",
              "       [7.42000000e+00, 1.70000000e+01, 1.00000000e+00],\n",
              "       [8.16000000e+00, 1.80000000e+01, 1.00000000e+00],\n",
              "       [5.05000000e+00, 1.90000000e+01, 1.00000000e+00],\n",
              "       [5.85000000e+00, 2.00000000e+01, 1.00000000e+00],\n",
              "       [5.45000000e+00, 1.50000000e+01, 0.00000000e+00],\n",
              "       [7.96000000e+00, 1.60000000e+01, 0.00000000e+00],\n",
              "       [6.51000000e+00, 1.70000000e+01, 0.00000000e+00],\n",
              "       [6.73000000e+00, 1.80000000e+01, 0.00000000e+00],\n",
              "       [5.94000000e+00, 1.90000000e+01, 1.00000000e+00],\n",
              "       [7.48000000e+00, 2.00000000e+01, 0.00000000e+00],\n",
              "       [8.13000000e+00, 1.50000000e+01, 1.00000000e+00],\n",
              "       [3.02763776e+01, 1.60000000e+01, 1.00000000e+00],\n",
              "       [5.40000000e+00, 1.70000000e+01, 1.00000000e+00],\n",
              "       [8.78000000e+00, 1.80000000e+01, 0.00000000e+00],\n",
              "       [8.72000000e+00, 1.90000000e+01, 1.00000000e+00],\n",
              "       [7.10000000e+00, 2.00000000e+01, 0.00000000e+00],\n",
              "       [7.86000000e+00, 1.50000000e+01, 1.00000000e+00],\n",
              "       [7.19000000e+00, 1.60000000e+01, 0.00000000e+00],\n",
              "       [5.62000000e+00, 1.70000000e+01, 1.00000000e+00],\n",
              "       [7.88000000e+00, 1.80000000e+01, 0.00000000e+00],\n",
              "       [5.28000000e+00, 1.90000000e+01, 1.00000000e+00],\n",
              "       [8.92000000e+00, 2.00000000e+01, 1.00000000e+00],\n",
              "       [5.46000000e+00, 1.50000000e+01, 0.00000000e+00],\n",
              "       [8.30000000e+00, 1.60000000e+01, 1.00000000e+00],\n",
              "       [8.09000000e+00, 1.70000000e+01, 0.00000000e+00],\n",
              "       [6.18000000e+00, 1.80000000e+01, 1.00000000e+00],\n",
              "       [7.01000000e+00, 1.90000000e+01, 1.00000000e+00],\n",
              "       [5.01000000e+00, 2.00000000e+01, 0.00000000e+00],\n",
              "       [5.54000000e+00, 1.50000000e+01, 1.00000000e+00],\n",
              "       [5.09000000e+00, 1.60000000e+01, 1.00000000e+00],\n",
              "       [5.09000000e+00, 1.70000000e+01, 0.00000000e+00],\n",
              "       [7.31000000e+00, 1.80000000e+01, 1.00000000e+00],\n",
              "       [8.71000000e+00, 1.90000000e+01, 0.00000000e+00],\n",
              "       [5.52000000e+00, 2.00000000e+01, 1.00000000e+00],\n",
              "       [8.76000000e+00, 1.50000000e+01, 0.00000000e+00],\n",
              "       [8.69000000e+00, 1.60000000e+01, 1.00000000e+00],\n",
              "       [5.75000000e+00, 1.70000000e+01, 1.00000000e+00],\n",
              "       [8.93000000e+00, 1.80000000e+01, 1.00000000e+00],\n",
              "       [5.39000000e+00, 1.90000000e+01, 1.00000000e+00],\n",
              "       [5.65000000e+00, 2.00000000e+01, 0.00000000e+00],\n",
              "       [5.49000000e+00, 1.50000000e+01, 1.00000000e+00],\n",
              "       [7.26000000e+00, 1.60000000e+01, 1.00000000e+00],\n",
              "       [6.35000000e+00, 1.70000000e+01, 0.00000000e+00],\n",
              "       [7.72000000e+00, 1.80000000e+01, 1.00000000e+00],\n",
              "       [8.88000000e+00, 1.90000000e+01, 0.00000000e+00],\n",
              "       [5.45000000e+00, 2.00000000e+01, 1.00000000e+00],\n",
              "       [7.86000000e+00, 1.50000000e+01, 1.00000000e+00],\n",
              "       [8.26000000e+00, 1.60000000e+01, 0.00000000e+00],\n",
              "       [5.07000000e+00, 1.70000000e+01, 1.00000000e+00],\n",
              "       [8.25000000e+00, 1.80000000e+01, 0.00000000e+00],\n",
              "       [5.37000000e+00, 1.90000000e+01, 1.00000000e+00],\n",
              "       [5.11000000e+00, 2.00000000e+01, 1.00000000e+00],\n",
              "       [6.35000000e+00, 1.50000000e+01, 0.00000000e+00],\n",
              "       [7.41000000e+00, 1.60000000e+01, 1.00000000e+00],\n",
              "       [7.31000000e+00, 1.70000000e+01, 0.00000000e+00],\n",
              "       [6.04000000e+00, 1.80000000e+01, 1.00000000e+00],\n",
              "       [5.11000000e+00, 1.90000000e+01, 1.00000000e+00],\n",
              "       [6.56000000e+00, 2.00000000e+01, 0.00000000e+00],\n",
              "       [5.09000000e+00, 1.50000000e+01, 1.00000000e+00],\n",
              "       [5.88000000e+00, 1.60000000e+01, 0.00000000e+00],\n",
              "       [8.34000000e+00, 1.70000000e+01, 1.00000000e+00],\n",
              "       [7.94000000e+00, 1.80000000e+01, 0.00000000e+00],\n",
              "       [6.66000000e+00, 1.90000000e+01, 1.00000000e+00],\n",
              "       [6.01000000e+00, 2.00000000e+01, 1.00000000e+00],\n",
              "       [6.88000000e+00, 1.50000000e+01, 0.00000000e+00],\n",
              "       [5.63000000e+00, 1.60000000e+01, 1.00000000e+00],\n",
              "       [5.88000000e+00, 1.70000000e+01, 0.00000000e+00],\n",
              "       [8.05000000e+00, 1.80000000e+01, 1.00000000e+00],\n",
              "       [5.33000000e+00, 1.90000000e+01, 0.00000000e+00],\n",
              "       [8.79000000e+00, 2.00000000e+01, 0.00000000e+00],\n",
              "       [7.52000000e+00, 1.50000000e+01, 1.00000000e+00],\n",
              "       [8.20000000e+00, 1.60000000e+01, 0.00000000e+00],\n",
              "       [5.44000000e+00, 1.70000000e+01, 1.00000000e+00],\n",
              "       [7.90000000e+00, 1.80000000e+01, 0.00000000e+00],\n",
              "       [7.69000000e+00, 1.90000000e+01, 1.00000000e+00],\n",
              "       [6.09000000e+00, 2.00000000e+01, 0.00000000e+00],\n",
              "       [3.02763776e+01, 1.50000000e+01, 1.00000000e+00],\n",
              "       [5.20000000e+00, 1.60000000e+01, 1.00000000e+00],\n",
              "       [8.88000000e+00, 1.70000000e+01, 0.00000000e+00],\n",
              "       [8.07000000e+00, 1.80000000e+01, 1.00000000e+00],\n",
              "       [6.24000000e+00, 1.90000000e+01, 1.00000000e+00],\n",
              "       [7.95000000e+00, 2.00000000e+01, 0.00000000e+00],\n",
              "       [8.26000000e+00, 1.50000000e+01, 0.00000000e+00],\n",
              "       [7.31000000e+00, 1.60000000e+01, 1.00000000e+00],\n",
              "       [7.23000000e+00, 1.70000000e+01, 1.00000000e+00],\n",
              "       [6.46000000e+00, 1.80000000e+01, 1.00000000e+00],\n",
              "       [5.34000000e+00, 1.90000000e+01, 1.00000000e+00],\n",
              "       [5.72000000e+00, 2.00000000e+01, 1.00000000e+00],\n",
              "       [5.84000000e+00, 1.50000000e+01, 0.00000000e+00],\n",
              "       [5.02000000e+00, 1.60000000e+01, 1.00000000e+00],\n",
              "       [7.98000000e+00, 1.70000000e+01, 0.00000000e+00],\n",
              "       [6.37000000e+00, 1.80000000e+01, 1.00000000e+00],\n",
              "       [6.92000000e+00, 1.90000000e+01, 0.00000000e+00],\n",
              "       [7.95000000e+00, 2.00000000e+01, 1.00000000e+00],\n",
              "       [7.12000000e+00, 1.50000000e+01, 0.00000000e+00],\n",
              "       [5.79000000e+00, 1.60000000e+01, 1.00000000e+00],\n",
              "       [5.40000000e+00, 1.70000000e+01, 0.00000000e+00],\n",
              "       [8.83000000e+00, 1.80000000e+01, 1.00000000e+00],\n",
              "       [5.69000000e+00, 1.90000000e+01, 0.00000000e+00],\n",
              "       [6.60000000e+00, 2.00000000e+01, 1.00000000e+00],\n",
              "       [6.52000000e+00, 1.50000000e+01, 0.00000000e+00],\n",
              "       [8.31000000e+00, 1.60000000e+01, 0.00000000e+00],\n",
              "       [3.02763776e+01, 1.70000000e+01, 1.00000000e+00],\n",
              "       [7.62000000e+00, 1.80000000e+01, 0.00000000e+00],\n",
              "       [8.69000000e+00, 1.90000000e+01, 1.00000000e+00],\n",
              "       [8.75000000e+00, 2.00000000e+01, 0.00000000e+00],\n",
              "       [6.46000000e+00, 1.50000000e+01, 1.00000000e+00],\n",
              "       [7.14000000e+00, 1.60000000e+01, 1.00000000e+00],\n",
              "       [6.38000000e+00, 1.70000000e+01, 0.00000000e+00],\n",
              "       [6.33000000e+00, 1.80000000e+01, 1.00000000e+00],\n",
              "       [5.64000000e+00, 1.90000000e+01, 0.00000000e+00],\n",
              "       [5.26000000e+00, 2.00000000e+01, 1.00000000e+00],\n",
              "       [6.83000000e+00, 1.50000000e+01, 1.00000000e+00],\n",
              "       [5.76000000e+00, 1.60000000e+01, 0.00000000e+00],\n",
              "       [6.51000000e+00, 1.70000000e+01, 1.00000000e+00],\n",
              "       [8.33000000e+00, 1.80000000e+01, 0.00000000e+00],\n",
              "       [8.16000000e+00, 1.90000000e+01, 1.00000000e+00],\n",
              "       [5.14000000e+00, 2.00000000e+01, 0.00000000e+00],\n",
              "       [8.71000000e+00, 1.50000000e+01, 0.00000000e+00],\n",
              "       [8.60000000e+00, 1.60000000e+01, 1.00000000e+00],\n",
              "       [8.60000000e+00, 1.70000000e+01, 0.00000000e+00],\n",
              "       [7.43000000e+00, 1.80000000e+01, 1.00000000e+00],\n",
              "       [7.81000000e+00, 1.90000000e+01, 1.00000000e+00],\n",
              "       [6.51000000e+00, 2.00000000e+01, 0.00000000e+00],\n",
              "       [8.11000000e+00, 1.50000000e+01, 1.00000000e+00],\n",
              "       [8.95000000e+00, 1.60000000e+01, 0.00000000e+00],\n",
              "       [7.99000000e+00, 1.70000000e+01, 1.00000000e+00],\n",
              "       [5.92000000e+00, 1.80000000e+01, 0.00000000e+00],\n",
              "       [8.30000000e+00, 1.90000000e+01, 1.00000000e+00],\n",
              "       [8.97000000e+00, 2.00000000e+01, 0.00000000e+00],\n",
              "       [5.39000000e+00, 1.50000000e+01, 0.00000000e+00],\n",
              "       [6.77000000e+00, 1.60000000e+01, 0.00000000e+00],\n",
              "       [8.08000000e+00, 1.70000000e+01, 1.00000000e+00],\n",
              "       [5.24000000e+00, 1.80000000e+01, 0.00000000e+00],\n",
              "       [6.93000000e+00, 1.90000000e+01, 1.00000000e+00],\n",
              "       [5.14000000e+00, 2.00000000e+01, 0.00000000e+00],\n",
              "       [8.39000000e+00, 1.50000000e+01, 1.00000000e+00],\n",
              "       [6.18000000e+00, 1.60000000e+01, 0.00000000e+00],\n",
              "       [7.53000000e+00, 1.70000000e+01, 1.00000000e+00],\n",
              "       [7.86000000e+00, 1.80000000e+01, 0.00000000e+00],\n",
              "       [7.70000000e+00, 1.90000000e+01, 1.00000000e+00],\n",
              "       [7.30000000e+00, 2.00000000e+01, 0.00000000e+00],\n",
              "       [7.79000000e+00, 1.50000000e+01, 1.00000000e+00],\n",
              "       [6.75000000e+00, 1.60000000e+01, 0.00000000e+00],\n",
              "       [7.87000000e+00, 1.70000000e+01, 1.00000000e+00],\n",
              "       [5.38000000e+00, 1.80000000e+01, 0.00000000e+00],\n",
              "       [7.80000000e+00, 1.90000000e+01, 1.00000000e+00],\n",
              "       [5.07000000e+00, 2.00000000e+01, 0.00000000e+00],\n",
              "       [7.95000000e+00, 1.50000000e+01, 1.00000000e+00],\n",
              "       [8.35000000e+00, 1.60000000e+01, 0.00000000e+00],\n",
              "       [5.19000000e+00, 1.70000000e+01, 0.00000000e+00],\n",
              "       [7.19000000e+00, 1.80000000e+01, 0.00000000e+00],\n",
              "       [7.35000000e+00, 1.90000000e+01, 1.00000000e+00],\n",
              "       [5.22000000e+00, 2.00000000e+01, 1.00000000e+00],\n",
              "       [5.39000000e+00, 1.50000000e+01, 1.00000000e+00],\n",
              "       [5.39000000e+00, 1.60000000e+01, 1.00000000e+00],\n",
              "       [8.93000000e+00, 1.70000000e+01, 1.00000000e+00],\n",
              "       [5.79000000e+00, 1.80000000e+01, 0.00000000e+00],\n",
              "       [8.42000000e+00, 1.90000000e+01, 1.00000000e+00],\n",
              "       [7.26000000e+00, 2.00000000e+01, 0.00000000e+00],\n",
              "       [6.97000000e+00, 1.50000000e+01, 1.00000000e+00],\n",
              "       [5.55000000e+00, 1.60000000e+01, 1.00000000e+00],\n",
              "       [8.66000000e+00, 1.70000000e+01, 0.00000000e+00],\n",
              "       [8.61000000e+00, 1.80000000e+01, 1.00000000e+00],\n",
              "       [5.22000000e+00, 1.90000000e+01, 1.00000000e+00],\n",
              "       [8.05000000e+00, 2.00000000e+01, 0.00000000e+00],\n",
              "       [8.87000000e+00, 1.50000000e+01, 1.00000000e+00],\n",
              "       [5.54000000e+00, 1.60000000e+01, 0.00000000e+00],\n",
              "       [3.02763776e+01, 1.70000000e+01, 0.00000000e+00],\n",
              "       [7.26000000e+00, 1.80000000e+01, 1.00000000e+00],\n",
              "       [5.79000000e+00, 1.90000000e+01, 0.00000000e+00],\n",
              "       [5.22000000e+00, 2.00000000e+01, 0.00000000e+00],\n",
              "       [8.71000000e+00, 1.50000000e+01, 1.00000000e+00],\n",
              "       [7.55000000e+00, 1.60000000e+01, 1.00000000e+00],\n",
              "       [6.35000000e+00, 1.70000000e+01, 1.00000000e+00],\n",
              "       [7.53000000e+00, 1.80000000e+01, 0.00000000e+00],\n",
              "       [8.56000000e+00, 1.90000000e+01, 1.00000000e+00],\n",
              "       [8.94000000e+00, 2.00000000e+01, 1.00000000e+00],\n",
              "       [6.60000000e+00, 1.50000000e+01, 1.00000000e+00],\n",
              "       [8.35000000e+00, 1.60000000e+01, 1.00000000e+00],\n",
              "       [4.15000000e+00, 1.50000000e+01, 0.00000000e+00]])"
            ]
          },
          "metadata": {},
          "execution_count": 7
        }
      ]
    },
    {
      "cell_type": "code",
      "metadata": {
        "id": "SqxVaBO0pf1W",
        "colab": {
          "base_uri": "https://localhost:8080/"
        },
        "outputId": "51c7b0c7-c492-4f11-e279-099b8b99c9a6"
      },
      "source": [
        "Y = dataset.iloc[:, -1].values\n",
        "Y"
      ],
      "execution_count": 8,
      "outputs": [
        {
          "output_type": "execute_result",
          "data": {
            "text/plain": [
              "array([78.5 , 76.74, 78.68, 71.82, 84.19, 81.18, 76.99, 85.46, 70.66,\n",
              "       77.82, 75.37, 83.88, 79.5 , 80.76, 83.08, 76.03, 76.04, 85.11,\n",
              "       82.5 , 80.58, 82.18, 83.36, 70.67, 75.02, 70.96, 83.33, 74.75,\n",
              "       75.65, 74.15, 80.17, 82.27, 76.14, 71.1 , 84.35, 83.08, 76.76,\n",
              "       81.24, 78.21, 73.08, 83.23, 70.27, 86.41, 71.1 , 82.84, 82.38,\n",
              "       72.96, 77.46, 70.11, 72.38, 71.41, 72.22, 77.77, 84.44, 71.45,\n",
              "       82.21, 85.48, 75.03, 86.65, 70.9 , 71.7 , 73.61, 79.41, 76.19,\n",
              "       80.43, 85.78, 70.06, 81.25, 81.7 , 69.27, 82.79, 71.8 , 71.79,\n",
              "       74.97, 78.61, 77.59, 72.33, 72.08, 77.33, 70.05, 73.34, 84.  ,\n",
              "       82.93, 76.63, 75.36, 77.29, 72.87, 73.4 , 81.74, 71.85, 84.6 ,\n",
              "       79.56, 82.1 , 72.08, 79.1 , 81.01, 76.48, 75.39, 68.57, 83.64,\n",
              "       82.3 , 75.18, 82.03, 82.99, 79.26, 77.55, 77.07, 72.1 , 73.25,\n",
              "       74.25, 70.58, 81.08, 75.04, 76.38, 80.86, 78.42, 74.44, 70.34,\n",
              "       85.04, 73.61, 75.55, 76.2 , 82.69, 76.83, 79.53, 83.57, 85.95,\n",
              "       76.02, 77.65, 77.01, 74.49, 73.19, 71.86, 75.8 , 72.46, 78.39,\n",
              "       83.48, 83.15, 71.22, 85.98, 83.91, 84.58, 80.31, 82.55, 75.52,\n",
              "       83.82, 85.15, 82.75, 74.34, 82.02, 86.12, 71.87, 76.7 , 81.7 ,\n",
              "       70.78, 78.45, 70.2 , 83.37, 75.52, 81.57, 80.72, 80.81, 79.49,\n",
              "       79.17, 77.07, 82.04, 71.94, 81.6 , 70.79, 82.68, 83.08, 71.18,\n",
              "       77.63, 77.78, 70.4 , 73.02, 71.11, 85.96, 73.64, 84.24, 78.17,\n",
              "       77.19, 71.83, 86.99, 83.87, 71.5 , 79.63, 85.1 , 72.01, 77.27,\n",
              "       79.87, 73.14, 70.51, 84.03, 79.64, 74.24, 81.67, 84.68, 86.75,\n",
              "       78.05, 83.5 , 81.45])"
            ]
          },
          "metadata": {},
          "execution_count": 8
        }
      ]
    },
    {
      "cell_type": "markdown",
      "metadata": {
        "id": "KsDoGjjbpmjk"
      },
      "source": [
        "### *Training Dataset using Linear Regression*"
      ]
    },
    {
      "cell_type": "code",
      "metadata": {
        "id": "nKmEySI1poV_",
        "colab": {
          "base_uri": "https://localhost:8080/",
          "height": 74
        },
        "outputId": "d23dd4ba-8924-4025-f18c-e436a0446dde"
      },
      "source": [
        "model = LinearRegression()\n",
        "model.fit(X,Y)"
      ],
      "execution_count": 9,
      "outputs": [
        {
          "output_type": "execute_result",
          "data": {
            "text/plain": [
              "LinearRegression()"
            ],
            "text/html": [
              "<style>#sk-container-id-1 {color: black;background-color: white;}#sk-container-id-1 pre{padding: 0;}#sk-container-id-1 div.sk-toggleable {background-color: white;}#sk-container-id-1 label.sk-toggleable__label {cursor: pointer;display: block;width: 100%;margin-bottom: 0;padding: 0.3em;box-sizing: border-box;text-align: center;}#sk-container-id-1 label.sk-toggleable__label-arrow:before {content: \"▸\";float: left;margin-right: 0.25em;color: #696969;}#sk-container-id-1 label.sk-toggleable__label-arrow:hover:before {color: black;}#sk-container-id-1 div.sk-estimator:hover label.sk-toggleable__label-arrow:before {color: black;}#sk-container-id-1 div.sk-toggleable__content {max-height: 0;max-width: 0;overflow: hidden;text-align: left;background-color: #f0f8ff;}#sk-container-id-1 div.sk-toggleable__content pre {margin: 0.2em;color: black;border-radius: 0.25em;background-color: #f0f8ff;}#sk-container-id-1 input.sk-toggleable__control:checked~div.sk-toggleable__content {max-height: 200px;max-width: 100%;overflow: auto;}#sk-container-id-1 input.sk-toggleable__control:checked~label.sk-toggleable__label-arrow:before {content: \"▾\";}#sk-container-id-1 div.sk-estimator input.sk-toggleable__control:checked~label.sk-toggleable__label {background-color: #d4ebff;}#sk-container-id-1 div.sk-label input.sk-toggleable__control:checked~label.sk-toggleable__label {background-color: #d4ebff;}#sk-container-id-1 input.sk-hidden--visually {border: 0;clip: rect(1px 1px 1px 1px);clip: rect(1px, 1px, 1px, 1px);height: 1px;margin: -1px;overflow: hidden;padding: 0;position: absolute;width: 1px;}#sk-container-id-1 div.sk-estimator {font-family: monospace;background-color: #f0f8ff;border: 1px dotted black;border-radius: 0.25em;box-sizing: border-box;margin-bottom: 0.5em;}#sk-container-id-1 div.sk-estimator:hover {background-color: #d4ebff;}#sk-container-id-1 div.sk-parallel-item::after {content: \"\";width: 100%;border-bottom: 1px solid gray;flex-grow: 1;}#sk-container-id-1 div.sk-label:hover label.sk-toggleable__label {background-color: #d4ebff;}#sk-container-id-1 div.sk-serial::before {content: \"\";position: absolute;border-left: 1px solid gray;box-sizing: border-box;top: 0;bottom: 0;left: 50%;z-index: 0;}#sk-container-id-1 div.sk-serial {display: flex;flex-direction: column;align-items: center;background-color: white;padding-right: 0.2em;padding-left: 0.2em;position: relative;}#sk-container-id-1 div.sk-item {position: relative;z-index: 1;}#sk-container-id-1 div.sk-parallel {display: flex;align-items: stretch;justify-content: center;background-color: white;position: relative;}#sk-container-id-1 div.sk-item::before, #sk-container-id-1 div.sk-parallel-item::before {content: \"\";position: absolute;border-left: 1px solid gray;box-sizing: border-box;top: 0;bottom: 0;left: 50%;z-index: -1;}#sk-container-id-1 div.sk-parallel-item {display: flex;flex-direction: column;z-index: 1;position: relative;background-color: white;}#sk-container-id-1 div.sk-parallel-item:first-child::after {align-self: flex-end;width: 50%;}#sk-container-id-1 div.sk-parallel-item:last-child::after {align-self: flex-start;width: 50%;}#sk-container-id-1 div.sk-parallel-item:only-child::after {width: 0;}#sk-container-id-1 div.sk-dashed-wrapped {border: 1px dashed gray;margin: 0 0.4em 0.5em 0.4em;box-sizing: border-box;padding-bottom: 0.4em;background-color: white;}#sk-container-id-1 div.sk-label label {font-family: monospace;font-weight: bold;display: inline-block;line-height: 1.2em;}#sk-container-id-1 div.sk-label-container {text-align: center;}#sk-container-id-1 div.sk-container {/* jupyter's `normalize.less` sets `[hidden] { display: none; }` but bootstrap.min.css set `[hidden] { display: none !important; }` so we also need the `!important` here to be able to override the default hidden behavior on the sphinx rendered scikit-learn.org. See: https://github.com/scikit-learn/scikit-learn/issues/21755 */display: inline-block !important;position: relative;}#sk-container-id-1 div.sk-text-repr-fallback {display: none;}</style><div id=\"sk-container-id-1\" class=\"sk-top-container\"><div class=\"sk-text-repr-fallback\"><pre>LinearRegression()</pre><b>In a Jupyter environment, please rerun this cell to show the HTML representation or trust the notebook. <br />On GitHub, the HTML representation is unable to render, please try loading this page with nbviewer.org.</b></div><div class=\"sk-container\" hidden><div class=\"sk-item\"><div class=\"sk-estimator sk-toggleable\"><input class=\"sk-toggleable__control sk-hidden--visually\" id=\"sk-estimator-id-1\" type=\"checkbox\" checked><label for=\"sk-estimator-id-1\" class=\"sk-toggleable__label sk-toggleable__label-arrow\">LinearRegression</label><div class=\"sk-toggleable__content\"><pre>LinearRegression()</pre></div></div></div></div></div>"
            ]
          },
          "metadata": {},
          "execution_count": 9
        }
      ]
    },
    {
      "cell_type": "markdown",
      "metadata": {
        "id": "n-UeFqpGpw9p"
      },
      "source": [
        "### *Predicted Price for Land sq.Feet of custom values*"
      ]
    },
    {
      "cell_type": "code",
      "metadata": {
        "id": "Ollo3wTcpyKQ",
        "colab": {
          "base_uri": "https://localhost:8080/"
        },
        "outputId": "72a4f39b-3cfb-4fd0-eded-86fd260c2f9c"
      },
      "source": [
        "a=[[9.2,20,0]]\n",
        "PredictedmodelResult = model.predict(a)\n",
        "print(PredictedmodelResult)"
      ],
      "execution_count": 10,
      "outputs": [
        {
          "output_type": "stream",
          "name": "stdout",
          "text": [
            "[77.47716785]\n"
          ]
        }
      ]
    }
  ]
}